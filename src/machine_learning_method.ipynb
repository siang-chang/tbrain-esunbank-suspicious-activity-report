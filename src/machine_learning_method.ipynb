{
 "cells": [
  {
   "cell_type": "markdown",
   "metadata": {},
   "source": [
    "# TBrain Esunbank Suspicious Activity Report"
   ]
  },
  {
   "cell_type": "markdown",
   "metadata": {},
   "source": [
    "## Import Package"
   ]
  },
  {
   "cell_type": "code",
   "execution_count": 2,
   "metadata": {},
   "outputs": [],
   "source": [
    "import os\n",
    "import time\n",
    "import random\n",
    "import numpy as np\n",
    "import pandas as pd"
   ]
  },
  {
   "cell_type": "code",
   "execution_count": 3,
   "metadata": {},
   "outputs": [
    {
     "name": "stdout",
     "output_type": "stream",
     "text": [
      "Tensorflow version 2.6.0\n"
     ]
    }
   ],
   "source": [
    "import tensorflow as tf\n",
    "print(\"Tensorflow version \" + tf.__version__)"
   ]
  },
  {
   "cell_type": "code",
   "execution_count": 4,
   "metadata": {},
   "outputs": [],
   "source": [
    "SEED = 5397\n",
    "random.seed(SEED)\n",
    "np.random.seed(SEED)\n",
    "os.environ['PYTHONHASHSEED'] = str(SEED)"
   ]
  },
  {
   "cell_type": "code",
   "execution_count": 5,
   "metadata": {},
   "outputs": [
    {
     "name": "stdout",
     "output_type": "stream",
     "text": [
      "Not connected to a TPU runtime. Using CPU/GPU strategy\n",
      "Found GPU at: /device:GPU:0\n",
      "Wed Nov 23 18:28:10 2022       \n",
      "+-----------------------------------------------------------------------------+\n",
      "| NVIDIA-SMI 512.59       Driver Version: 512.59       CUDA Version: 11.6     |\n",
      "|-------------------------------+----------------------+----------------------+\n",
      "| GPU  Name            TCC/WDDM | Bus-Id        Disp.A | Volatile Uncorr. ECC |\n",
      "| Fan  Temp  Perf  Pwr:Usage/Cap|         Memory-Usage | GPU-Util  Compute M. |\n",
      "|                               |                      |               MIG M. |\n",
      "|===============================+======================+======================|\n",
      "|   0  NVIDIA GeForce ... WDDM  | 00000000:01:00.0  On |                  N/A |\n",
      "|  0%   37C    P2    25W / 160W |    508MiB /  6144MiB |      6%      Default |\n",
      "|                               |                      |                  N/A |\n",
      "+-------------------------------+----------------------+----------------------+\n",
      "                                                                               \n",
      "+-----------------------------------------------------------------------------+\n",
      "| Processes:                                                                  |\n",
      "|  GPU   GI   CI        PID   Type   Process name                  GPU Memory |\n",
      "|        ID   ID                                                   Usage      |\n",
      "|=============================================================================|\n",
      "|    0   N/A  N/A      1152    C+G   ...zpdnekdrzrea0\\Spotify.exe    N/A      |\n",
      "|    0   N/A  N/A      2600    C+G   ...\\INZONE Hub\\INZONEHub.exe    N/A      |\n",
      "|    0   N/A  N/A      4820    C+G   ...urrent\\LogiOptionsMgr.exe    N/A      |\n",
      "|    0   N/A  N/A      6596    C+G   ...n1h2txyewy\\SearchHost.exe    N/A      |\n",
      "|    0   N/A  N/A      7296    C+G   ...\\MicrosoftSecurityApp.exe    N/A      |\n",
      "|    0   N/A  N/A      7328    C+G   C:\\Windows\\explorer.exe         N/A      |\n",
      "|    0   N/A  N/A      8852    C+G   ...batNotificationClient.exe    N/A      |\n",
      "|    0   N/A  N/A      9256    C+G   ...2txyewy\\TextInputHost.exe    N/A      |\n",
      "|    0   N/A  N/A     10848      C   ...tensorflow-gpu\\python.exe    N/A      |\n",
      "|    0   N/A  N/A     12872    C+G   ...icrosoft VS Code\\Code.exe    N/A      |\n",
      "|    0   N/A  N/A     12952    C+G   ...artMenuExperienceHost.exe    N/A      |\n",
      "|    0   N/A  N/A     13236    C+G   ...e\\Current\\LogiOverlay.exe    N/A      |\n",
      "|    0   N/A  N/A     14800    C+G   ...werToys.PowerLauncher.exe    N/A      |\n",
      "|    0   N/A  N/A     15040    C+G   ...in7x64\\steamwebhelper.exe    N/A      |\n",
      "|    0   N/A  N/A     16988    C+G   ...lPanel\\SystemSettings.exe    N/A      |\n",
      "|    0   N/A  N/A     18892    C+G   ...ge\\Application\\msedge.exe    N/A      |\n",
      "|    0   N/A  N/A     25828    C+G   ...cw5n1h2txyewy\\LockApp.exe    N/A      |\n",
      "+-----------------------------------------------------------------------------+\n",
      "INFO:tensorflow:Using MirroredStrategy with devices ('/job:localhost/replica:0/task:0/device:GPU:0',)\n"
     ]
    }
   ],
   "source": [
    "try:\n",
    "    tpu = tf.distribute.cluster_resolver.TPUClusterResolver()\n",
    "    print(\"Device:\", tpu.master())\n",
    "    tf.config.experimental_connect_to_cluster(tpu)\n",
    "    tf.tpu.experimental.initialize_tpu_system(tpu)\n",
    "    strategy = tf.distribute.TPUStrategy(tpu)\n",
    "except ValueError:\n",
    "    print(\"Not connected to a TPU runtime. Using CPU/GPU strategy\")\n",
    "    device_name = tf.test.gpu_device_name()\n",
    "    if device_name != '/device:GPU:0':\n",
    "        raise SystemError('GPU device not found')\n",
    "    print('Found GPU at: {}'.format(device_name))\n",
    "    # Show GPU information\n",
    "    gpu_info = !nvidia-smi\n",
    "    gpu_info = '\\n'.join(gpu_info)\n",
    "    if gpu_info.find('failed') >= 0:\n",
    "        print('Not connected to a GPU')\n",
    "    else:\n",
    "        print(gpu_info)\n",
    "    strategy = tf.distribute.MirroredStrategy(devices=[\"/gpu:0\"])"
   ]
  },
  {
   "cell_type": "markdown",
   "metadata": {},
   "source": [
    "## Helper Functions"
   ]
  },
  {
   "cell_type": "markdown",
   "metadata": {},
   "source": [
    "Before we write the code for adjusting the models, lets define a few helper functions."
   ]
  },
  {
   "cell_type": "code",
   "execution_count": 6,
   "metadata": {},
   "outputs": [],
   "source": [
    "def cdtx_from_date_to_byymm(date, byymm_list):\n",
    "    byymm = None # [0, 30, 61, 91, 122, 153, 183, 214, 244, 275, 306, 334, 365]\n",
    "    for i in range(len(byymm_list)):\n",
    "        if(byymm_list[i] == byymm_list[len(byymm_list)-1]):\n",
    "            if(byymm_list[i] <= date):\n",
    "                byymm = byymm_list[i]\n",
    "        else:\n",
    "            if(byymm_list[i] <= date < byymm_list[i+1]):\n",
    "                byymm = byymm_list[i]\n",
    "    return byymm"
   ]
  },
  {
   "cell_type": "code",
   "execution_count": 7,
   "metadata": {},
   "outputs": [],
   "source": [
    "# Processing of data provided by the organizer \n",
    "def alert_data_merge(alert, answer, custinfo):\n",
    "    data = pd.merge(answer, alert, on=['alert_key'], how='left')\n",
    "    data = pd.merge(data, custinfo, on='alert_key', how='left')\n",
    "    return data"
   ]
  },
  {
   "cell_type": "markdown",
   "metadata": {},
   "source": [
    "## Const & Inputs"
   ]
  },
  {
   "cell_type": "markdown",
   "metadata": {},
   "source": [
    "Here are all of the parameters to change for the run."
   ]
  },
  {
   "cell_type": "code",
   "execution_count": 8,
   "metadata": {},
   "outputs": [],
   "source": [
    "# Top level data directory. Here we assume the format of the directory conforms to the ImageFolder structure\n",
    "path = \".\"\n",
    "\n",
    "# look_back\n",
    "look_back = 14\n",
    "\n",
    "# Numerical\n",
    "numerical = [\n",
    "    'risk_rank', 'total_asset', 'AGE', \n",
    "    'trade_amount_usd', 'trans_counts'\n",
    "]\n",
    "\n",
    "# Categorical\n",
    "categorical = [\n",
    "    'occupation_code', \n",
    "    'trans_no'\n",
    "]\n",
    "\n",
    "# 2020 為閏年 2 月有 29 天，這裡 2 月只有 28 天所以是 2021 年\n",
    "byymm_mapping = {\n",
    "    '0': '2020/03', '30': '2020/04', '61': '2020/05', '91': '2020/06', '122': '2020/07', \n",
    "    '153': '2020/08', '183': '2020/09', '214': '2020/10', '244': '2020/11', '275': '2020/12',\n",
    "    '306': '2021/01', '334': '2021/02', '365': '2021/03'\n",
    "}"
   ]
  },
  {
   "cell_type": "markdown",
   "metadata": {},
   "source": [
    "## Data Preprocessing"
   ]
  },
  {
   "cell_type": "markdown",
   "metadata": {},
   "source": [
    "Processing of data provided by the organizer."
   ]
  },
  {
   "cell_type": "markdown",
   "metadata": {},
   "source": [
    "### custinfo"
   ]
  },
  {
   "cell_type": "code",
   "execution_count": 9,
   "metadata": {},
   "outputs": [
    {
     "name": "stdout",
     "output_type": "stream",
     "text": [
      "custinfo.cust_id.size: 7708\n"
     ]
    },
    {
     "data": {
      "text/html": [
       "<div>\n",
       "<style scoped>\n",
       "    .dataframe tbody tr th:only-of-type {\n",
       "        vertical-align: middle;\n",
       "    }\n",
       "\n",
       "    .dataframe tbody tr th {\n",
       "        vertical-align: top;\n",
       "    }\n",
       "\n",
       "    .dataframe thead th {\n",
       "        text-align: right;\n",
       "    }\n",
       "</style>\n",
       "<table border=\"1\" class=\"dataframe\">\n",
       "  <thead>\n",
       "    <tr style=\"text-align: right;\">\n",
       "      <th></th>\n",
       "      <th>alert_key</th>\n",
       "      <th>cust_id</th>\n",
       "      <th>risk_rank</th>\n",
       "      <th>occupation_code</th>\n",
       "      <th>total_asset</th>\n",
       "      <th>AGE</th>\n",
       "    </tr>\n",
       "  </thead>\n",
       "  <tbody>\n",
       "    <tr>\n",
       "      <th>0</th>\n",
       "      <td>352249</td>\n",
       "      <td>82595ac69158ae08d34156784bdec0d9e2ca5b242b6d2a...</td>\n",
       "      <td>1</td>\n",
       "      <td>19.0</td>\n",
       "      <td>1465816.0</td>\n",
       "      <td>7</td>\n",
       "    </tr>\n",
       "    <tr>\n",
       "      <th>1</th>\n",
       "      <td>352253</td>\n",
       "      <td>b212d14cb35676926682b2cf849e295d948888f556c07e...</td>\n",
       "      <td>1</td>\n",
       "      <td>2.0</td>\n",
       "      <td>98177.0</td>\n",
       "      <td>2</td>\n",
       "    </tr>\n",
       "    <tr>\n",
       "      <th>2</th>\n",
       "      <td>352254</td>\n",
       "      <td>e5b0002791c7852644a2730abeaa893cdf14a072ef7812...</td>\n",
       "      <td>1</td>\n",
       "      <td>19.0</td>\n",
       "      <td>2052922.0</td>\n",
       "      <td>7</td>\n",
       "    </tr>\n",
       "  </tbody>\n",
       "</table>\n",
       "</div>"
      ],
      "text/plain": [
       "   alert_key                                            cust_id  risk_rank  \\\n",
       "0     352249  82595ac69158ae08d34156784bdec0d9e2ca5b242b6d2a...          1   \n",
       "1     352253  b212d14cb35676926682b2cf849e295d948888f556c07e...          1   \n",
       "2     352254  e5b0002791c7852644a2730abeaa893cdf14a072ef7812...          1   \n",
       "\n",
       "   occupation_code  total_asset  AGE  \n",
       "0             19.0    1465816.0    7  \n",
       "1              2.0      98177.0    2  \n",
       "2             19.0    2052922.0    7  "
      ]
     },
     "execution_count": 9,
     "metadata": {},
     "output_type": "execute_result"
    }
   ],
   "source": [
    "custinfo = pd.read_csv(os.path.join(path, 'data/public_train_x_custinfo_full_hashed.csv'))\n",
    "print('custinfo.cust_id.size:', len(custinfo.groupby('cust_id').size()))\n",
    "custinfo.head(3)"
   ]
  },
  {
   "cell_type": "code",
   "execution_count": 10,
   "metadata": {},
   "outputs": [
    {
     "data": {
      "text/html": [
       "<div>\n",
       "<style scoped>\n",
       "    .dataframe tbody tr th:only-of-type {\n",
       "        vertical-align: middle;\n",
       "    }\n",
       "\n",
       "    .dataframe tbody tr th {\n",
       "        vertical-align: top;\n",
       "    }\n",
       "\n",
       "    .dataframe thead th {\n",
       "        text-align: right;\n",
       "    }\n",
       "</style>\n",
       "<table border=\"1\" class=\"dataframe\">\n",
       "  <thead>\n",
       "    <tr style=\"text-align: right;\">\n",
       "      <th></th>\n",
       "      <th>alert_key</th>\n",
       "      <th>risk_rank</th>\n",
       "      <th>occupation_code</th>\n",
       "      <th>total_asset</th>\n",
       "      <th>AGE</th>\n",
       "    </tr>\n",
       "  </thead>\n",
       "  <tbody>\n",
       "    <tr>\n",
       "      <th>count</th>\n",
       "      <td>25751.000000</td>\n",
       "      <td>25751.000000</td>\n",
       "      <td>25635.000000</td>\n",
       "      <td>2.575100e+04</td>\n",
       "      <td>25751.000000</td>\n",
       "    </tr>\n",
       "    <tr>\n",
       "      <th>mean</th>\n",
       "      <td>265685.626927</td>\n",
       "      <td>1.610578</td>\n",
       "      <td>14.251063</td>\n",
       "      <td>7.137427e+05</td>\n",
       "      <td>3.633024</td>\n",
       "    </tr>\n",
       "    <tr>\n",
       "      <th>std</th>\n",
       "      <td>58623.840868</td>\n",
       "      <td>0.906222</td>\n",
       "      <td>4.690025</td>\n",
       "      <td>2.435461e+06</td>\n",
       "      <td>1.309948</td>\n",
       "    </tr>\n",
       "    <tr>\n",
       "      <th>min</th>\n",
       "      <td>171142.000000</td>\n",
       "      <td>0.000000</td>\n",
       "      <td>0.000000</td>\n",
       "      <td>0.000000e+00</td>\n",
       "      <td>0.000000</td>\n",
       "    </tr>\n",
       "    <tr>\n",
       "      <th>25%</th>\n",
       "      <td>212536.000000</td>\n",
       "      <td>1.000000</td>\n",
       "      <td>12.000000</td>\n",
       "      <td>7.508000e+03</td>\n",
       "      <td>3.000000</td>\n",
       "    </tr>\n",
       "    <tr>\n",
       "      <th>50%</th>\n",
       "      <td>266346.000000</td>\n",
       "      <td>1.000000</td>\n",
       "      <td>15.000000</td>\n",
       "      <td>1.288800e+05</td>\n",
       "      <td>3.000000</td>\n",
       "    </tr>\n",
       "    <tr>\n",
       "      <th>75%</th>\n",
       "      <td>316658.500000</td>\n",
       "      <td>3.000000</td>\n",
       "      <td>19.000000</td>\n",
       "      <td>5.972315e+05</td>\n",
       "      <td>4.000000</td>\n",
       "    </tr>\n",
       "    <tr>\n",
       "      <th>max</th>\n",
       "      <td>365073.000000</td>\n",
       "      <td>3.000000</td>\n",
       "      <td>20.000000</td>\n",
       "      <td>7.386321e+07</td>\n",
       "      <td>10.000000</td>\n",
       "    </tr>\n",
       "  </tbody>\n",
       "</table>\n",
       "</div>"
      ],
      "text/plain": [
       "           alert_key     risk_rank  occupation_code   total_asset  \\\n",
       "count   25751.000000  25751.000000     25635.000000  2.575100e+04   \n",
       "mean   265685.626927      1.610578        14.251063  7.137427e+05   \n",
       "std     58623.840868      0.906222         4.690025  2.435461e+06   \n",
       "min    171142.000000      0.000000         0.000000  0.000000e+00   \n",
       "25%    212536.000000      1.000000        12.000000  7.508000e+03   \n",
       "50%    266346.000000      1.000000        15.000000  1.288800e+05   \n",
       "75%    316658.500000      3.000000        19.000000  5.972315e+05   \n",
       "max    365073.000000      3.000000        20.000000  7.386321e+07   \n",
       "\n",
       "                AGE  \n",
       "count  25751.000000  \n",
       "mean       3.633024  \n",
       "std        1.309948  \n",
       "min        0.000000  \n",
       "25%        3.000000  \n",
       "50%        3.000000  \n",
       "75%        4.000000  \n",
       "max       10.000000  "
      ]
     },
     "execution_count": 10,
     "metadata": {},
     "output_type": "execute_result"
    }
   ],
   "source": [
    "custinfo.describe()"
   ]
  },
  {
   "cell_type": "markdown",
   "metadata": {},
   "source": [
    "Handle Missing Values"
   ]
  },
  {
   "cell_type": "code",
   "execution_count": 11,
   "metadata": {},
   "outputs": [],
   "source": [
    "custinfo['occupation_code'] = custinfo['occupation_code'].fillna(21)"
   ]
  },
  {
   "cell_type": "markdown",
   "metadata": {},
   "source": [
    "### alert and flag\n",
    "Combine x and y"
   ]
  },
  {
   "cell_type": "code",
   "execution_count": 12,
   "metadata": {},
   "outputs": [],
   "source": [
    "train_alert = pd.read_csv(os.path.join(path, 'data/train_x_alert_date.csv'))\n",
    "train_y_answer = pd.read_csv(os.path.join(path, 'data/train_y_answer.csv')).drop(['set_name'], axis=1)\n",
    "public_alert = pd.read_csv(os.path.join(path, 'data/public_x_alert_date.csv'))\n",
    "public_y_answer = pd.DataFrame({'alert_key': public_alert['alert_key'], 'sar_flag': [np.nan]*len(public_alert)})"
   ]
  },
  {
   "cell_type": "code",
   "execution_count": 13,
   "metadata": {},
   "outputs": [],
   "source": [
    "# TODO: concat with private alert\n",
    "full_alert  = pd.concat([train_alert, public_alert], axis=0, ignore_index=True)"
   ]
  },
  {
   "cell_type": "markdown",
   "metadata": {},
   "source": [
    "Use oversampling to handle imbalanced data"
   ]
  },
  {
   "cell_type": "code",
   "execution_count": 14,
   "metadata": {},
   "outputs": [
    {
     "data": {
      "text/html": [
       "<div>\n",
       "<style scoped>\n",
       "    .dataframe tbody tr th:only-of-type {\n",
       "        vertical-align: middle;\n",
       "    }\n",
       "\n",
       "    .dataframe tbody tr th {\n",
       "        vertical-align: top;\n",
       "    }\n",
       "\n",
       "    .dataframe thead th {\n",
       "        text-align: right;\n",
       "    }\n",
       "</style>\n",
       "<table border=\"1\" class=\"dataframe\">\n",
       "  <thead>\n",
       "    <tr style=\"text-align: right;\">\n",
       "      <th></th>\n",
       "      <th>sar_flag</th>\n",
       "      <th>counts</th>\n",
       "    </tr>\n",
       "  </thead>\n",
       "  <tbody>\n",
       "    <tr>\n",
       "      <th>0</th>\n",
       "      <td>0</td>\n",
       "      <td>23672</td>\n",
       "    </tr>\n",
       "    <tr>\n",
       "      <th>1</th>\n",
       "      <td>1</td>\n",
       "      <td>234</td>\n",
       "    </tr>\n",
       "  </tbody>\n",
       "</table>\n",
       "</div>"
      ],
      "text/plain": [
       "   sar_flag  counts\n",
       "0         0   23672\n",
       "1         1     234"
      ]
     },
     "execution_count": 14,
     "metadata": {},
     "output_type": "execute_result"
    }
   ],
   "source": [
    "train_y_answer_groupby_y = train_y_answer.groupby(['sar_flag']).size().reset_index(name='counts')\n",
    "train_y_answer_groupby_y"
   ]
  },
  {
   "cell_type": "code",
   "execution_count": 15,
   "metadata": {},
   "outputs": [
    {
     "data": {
      "text/html": [
       "<div>\n",
       "<style scoped>\n",
       "    .dataframe tbody tr th:only-of-type {\n",
       "        vertical-align: middle;\n",
       "    }\n",
       "\n",
       "    .dataframe tbody tr th {\n",
       "        vertical-align: top;\n",
       "    }\n",
       "\n",
       "    .dataframe thead th {\n",
       "        text-align: right;\n",
       "    }\n",
       "</style>\n",
       "<table border=\"1\" class=\"dataframe\">\n",
       "  <thead>\n",
       "    <tr style=\"text-align: right;\">\n",
       "      <th></th>\n",
       "      <th>sar_flag</th>\n",
       "      <th>counts</th>\n",
       "    </tr>\n",
       "  </thead>\n",
       "  <tbody>\n",
       "    <tr>\n",
       "      <th>0</th>\n",
       "      <td>0</td>\n",
       "      <td>23672</td>\n",
       "    </tr>\n",
       "    <tr>\n",
       "      <th>1</th>\n",
       "      <td>1</td>\n",
       "      <td>23634</td>\n",
       "    </tr>\n",
       "  </tbody>\n",
       "</table>\n",
       "</div>"
      ],
      "text/plain": [
       "   sar_flag  counts\n",
       "0         0   23672\n",
       "1         1   23634"
      ]
     },
     "execution_count": 15,
     "metadata": {},
     "output_type": "execute_result"
    }
   ],
   "source": [
    "class_ratio = train_y_answer_groupby_y['counts'].max()//train_y_answer_groupby_y['counts'].min()\n",
    "train_y_answer_balanced = pd.concat([train_y_answer[train_y_answer['sar_flag'].eq(1)]]*class_ratio, axis=0, ignore_index=True)\n",
    "train_y_answer_balanced = pd.concat([train_y_answer_balanced, train_y_answer[train_y_answer['sar_flag'].eq(0)]], axis=0, ignore_index=True)\n",
    "train_y_answer_balanced.groupby(['sar_flag']).size().reset_index(name='counts')"
   ]
  },
  {
   "cell_type": "code",
   "execution_count": 16,
   "metadata": {},
   "outputs": [
    {
     "data": {
      "text/html": [
       "<div>\n",
       "<style scoped>\n",
       "    .dataframe tbody tr th:only-of-type {\n",
       "        vertical-align: middle;\n",
       "    }\n",
       "\n",
       "    .dataframe tbody tr th {\n",
       "        vertical-align: top;\n",
       "    }\n",
       "\n",
       "    .dataframe thead th {\n",
       "        text-align: right;\n",
       "    }\n",
       "</style>\n",
       "<table border=\"1\" class=\"dataframe\">\n",
       "  <thead>\n",
       "    <tr style=\"text-align: right;\">\n",
       "      <th></th>\n",
       "      <th>alert_key</th>\n",
       "      <th>date</th>\n",
       "      <th>set_name</th>\n",
       "      <th>sar_flag</th>\n",
       "      <th>cust_id</th>\n",
       "      <th>risk_rank</th>\n",
       "      <th>occupation_code</th>\n",
       "      <th>total_asset</th>\n",
       "      <th>AGE</th>\n",
       "    </tr>\n",
       "  </thead>\n",
       "  <tbody>\n",
       "    <tr>\n",
       "      <th>0</th>\n",
       "      <td>171189</td>\n",
       "      <td>0</td>\n",
       "      <td>train</td>\n",
       "      <td>0</td>\n",
       "      <td>972ee157e63316e8a50dd489bc93730a3ee8a8959d5c6b...</td>\n",
       "      <td>1</td>\n",
       "      <td>17.0</td>\n",
       "      <td>375576.0</td>\n",
       "      <td>4</td>\n",
       "    </tr>\n",
       "    <tr>\n",
       "      <th>1</th>\n",
       "      <td>171202</td>\n",
       "      <td>0</td>\n",
       "      <td>train</td>\n",
       "      <td>0</td>\n",
       "      <td>a10ab33f90926fb18d7bb5e78034d7f04a1fbed95b7951...</td>\n",
       "      <td>3</td>\n",
       "      <td>12.0</td>\n",
       "      <td>2717416.0</td>\n",
       "      <td>2</td>\n",
       "    </tr>\n",
       "    <tr>\n",
       "      <th>2</th>\n",
       "      <td>171599</td>\n",
       "      <td>0</td>\n",
       "      <td>train</td>\n",
       "      <td>0</td>\n",
       "      <td>3433ecc068ed1c9e2f5037cab5d42d7b901e9bd624c1fb...</td>\n",
       "      <td>1</td>\n",
       "      <td>12.0</td>\n",
       "      <td>326517.0</td>\n",
       "      <td>4</td>\n",
       "    </tr>\n",
       "    <tr>\n",
       "      <th>3</th>\n",
       "      <td>171737</td>\n",
       "      <td>0</td>\n",
       "      <td>train</td>\n",
       "      <td>0</td>\n",
       "      <td>a0861608615a9365d90f4ba0a813c0ea0471987f925c8b...</td>\n",
       "      <td>3</td>\n",
       "      <td>14.0</td>\n",
       "      <td>1014759.0</td>\n",
       "      <td>4</td>\n",
       "    </tr>\n",
       "    <tr>\n",
       "      <th>4</th>\n",
       "      <td>171142</td>\n",
       "      <td>0</td>\n",
       "      <td>train</td>\n",
       "      <td>0</td>\n",
       "      <td>a39fea9aec90969fe66a2b2b4d1b86368a2d38e8b8d4bf...</td>\n",
       "      <td>3</td>\n",
       "      <td>12.0</td>\n",
       "      <td>241719.0</td>\n",
       "      <td>3</td>\n",
       "    </tr>\n",
       "  </tbody>\n",
       "</table>\n",
       "</div>"
      ],
      "text/plain": [
       "   alert_key  date set_name  sar_flag  \\\n",
       "0     171189     0    train         0   \n",
       "1     171202     0    train         0   \n",
       "2     171599     0    train         0   \n",
       "3     171737     0    train         0   \n",
       "4     171142     0    train         0   \n",
       "\n",
       "                                             cust_id  risk_rank  \\\n",
       "0  972ee157e63316e8a50dd489bc93730a3ee8a8959d5c6b...          1   \n",
       "1  a10ab33f90926fb18d7bb5e78034d7f04a1fbed95b7951...          3   \n",
       "2  3433ecc068ed1c9e2f5037cab5d42d7b901e9bd624c1fb...          1   \n",
       "3  a0861608615a9365d90f4ba0a813c0ea0471987f925c8b...          3   \n",
       "4  a39fea9aec90969fe66a2b2b4d1b86368a2d38e8b8d4bf...          3   \n",
       "\n",
       "   occupation_code  total_asset  AGE  \n",
       "0             17.0     375576.0    4  \n",
       "1             12.0    2717416.0    2  \n",
       "2             12.0     326517.0    4  \n",
       "3             14.0    1014759.0    4  \n",
       "4             12.0     241719.0    3  "
      ]
     },
     "execution_count": 16,
     "metadata": {},
     "output_type": "execute_result"
    }
   ],
   "source": [
    "train = alert_data_merge(train_y_answer_balanced, train_alert, custinfo)\n",
    "public = alert_data_merge(public_y_answer, public_alert, custinfo)\n",
    "train.head(5)"
   ]
  },
  {
   "cell_type": "markdown",
   "metadata": {},
   "source": [
    "### custinfo with date\n",
    "原始的 custinfo 沒有時間戳記，難以與其他資料整合，這邊與 alert 資料合併取得時間戳記"
   ]
  },
  {
   "cell_type": "code",
   "execution_count": 17,
   "metadata": {},
   "outputs": [
    {
     "data": {
      "text/html": [
       "<div>\n",
       "<style scoped>\n",
       "    .dataframe tbody tr th:only-of-type {\n",
       "        vertical-align: middle;\n",
       "    }\n",
       "\n",
       "    .dataframe tbody tr th {\n",
       "        vertical-align: top;\n",
       "    }\n",
       "\n",
       "    .dataframe thead th {\n",
       "        text-align: right;\n",
       "    }\n",
       "</style>\n",
       "<table border=\"1\" class=\"dataframe\">\n",
       "  <thead>\n",
       "    <tr style=\"text-align: right;\">\n",
       "      <th></th>\n",
       "      <th>alert_key</th>\n",
       "      <th>risk_rank</th>\n",
       "      <th>occupation_code</th>\n",
       "      <th>total_asset</th>\n",
       "      <th>AGE</th>\n",
       "      <th>date</th>\n",
       "    </tr>\n",
       "  </thead>\n",
       "  <tbody>\n",
       "    <tr>\n",
       "      <th>count</th>\n",
       "      <td>25751.000000</td>\n",
       "      <td>25751.000000</td>\n",
       "      <td>25751.000000</td>\n",
       "      <td>2.575100e+04</td>\n",
       "      <td>25751.000000</td>\n",
       "      <td>25751.000000</td>\n",
       "    </tr>\n",
       "    <tr>\n",
       "      <th>mean</th>\n",
       "      <td>265685.626927</td>\n",
       "      <td>1.610578</td>\n",
       "      <td>14.281465</td>\n",
       "      <td>7.137427e+05</td>\n",
       "      <td>3.633024</td>\n",
       "      <td>198.164032</td>\n",
       "    </tr>\n",
       "    <tr>\n",
       "      <th>std</th>\n",
       "      <td>58623.840868</td>\n",
       "      <td>0.906222</td>\n",
       "      <td>4.701225</td>\n",
       "      <td>2.435461e+06</td>\n",
       "      <td>1.309948</td>\n",
       "      <td>118.263229</td>\n",
       "    </tr>\n",
       "    <tr>\n",
       "      <th>min</th>\n",
       "      <td>171142.000000</td>\n",
       "      <td>0.000000</td>\n",
       "      <td>0.000000</td>\n",
       "      <td>0.000000e+00</td>\n",
       "      <td>0.000000</td>\n",
       "      <td>0.000000</td>\n",
       "    </tr>\n",
       "    <tr>\n",
       "      <th>25%</th>\n",
       "      <td>212536.000000</td>\n",
       "      <td>1.000000</td>\n",
       "      <td>12.000000</td>\n",
       "      <td>7.508000e+03</td>\n",
       "      <td>3.000000</td>\n",
       "      <td>92.000000</td>\n",
       "    </tr>\n",
       "    <tr>\n",
       "      <th>50%</th>\n",
       "      <td>266346.000000</td>\n",
       "      <td>1.000000</td>\n",
       "      <td>15.000000</td>\n",
       "      <td>1.288800e+05</td>\n",
       "      <td>3.000000</td>\n",
       "      <td>210.000000</td>\n",
       "    </tr>\n",
       "    <tr>\n",
       "      <th>75%</th>\n",
       "      <td>316658.500000</td>\n",
       "      <td>3.000000</td>\n",
       "      <td>19.000000</td>\n",
       "      <td>5.972315e+05</td>\n",
       "      <td>4.000000</td>\n",
       "      <td>295.000000</td>\n",
       "    </tr>\n",
       "    <tr>\n",
       "      <th>max</th>\n",
       "      <td>365073.000000</td>\n",
       "      <td>3.000000</td>\n",
       "      <td>21.000000</td>\n",
       "      <td>7.386321e+07</td>\n",
       "      <td>10.000000</td>\n",
       "      <td>393.000000</td>\n",
       "    </tr>\n",
       "  </tbody>\n",
       "</table>\n",
       "</div>"
      ],
      "text/plain": [
       "           alert_key     risk_rank  occupation_code   total_asset  \\\n",
       "count   25751.000000  25751.000000     25751.000000  2.575100e+04   \n",
       "mean   265685.626927      1.610578        14.281465  7.137427e+05   \n",
       "std     58623.840868      0.906222         4.701225  2.435461e+06   \n",
       "min    171142.000000      0.000000         0.000000  0.000000e+00   \n",
       "25%    212536.000000      1.000000        12.000000  7.508000e+03   \n",
       "50%    266346.000000      1.000000        15.000000  1.288800e+05   \n",
       "75%    316658.500000      3.000000        19.000000  5.972315e+05   \n",
       "max    365073.000000      3.000000        21.000000  7.386321e+07   \n",
       "\n",
       "                AGE          date  \n",
       "count  25751.000000  25751.000000  \n",
       "mean       3.633024    198.164032  \n",
       "std        1.309948    118.263229  \n",
       "min        0.000000      0.000000  \n",
       "25%        3.000000     92.000000  \n",
       "50%        3.000000    210.000000  \n",
       "75%        4.000000    295.000000  \n",
       "max       10.000000    393.000000  "
      ]
     },
     "execution_count": 17,
     "metadata": {},
     "output_type": "execute_result"
    }
   ],
   "source": [
    "custinfo_with_date = custinfo.copy()\n",
    "custinfo_with_date = pd.merge(custinfo_with_date, full_alert, on='alert_key', how='left').drop(['set_name'], axis=1)\n",
    "custinfo_with_date.describe()"
   ]
  },
  {
   "cell_type": "markdown",
   "metadata": {},
   "source": [
    "### convert to daily data\n",
    "\n",
    "時間序列模型可以基於警報發生當下及過去的資料來判斷警報嚴重程度，其中對於過去資料的回推單位在這裡設定為 1 日，為此必須先克服 2 個問題\n",
    "\n",
    "1. 資料在 1 日內可能有複數筆，例如：警報在同 1 日可能發生複數次、匯款或信用卡交易在同 1 日可能發生複數次\n",
    "\n",
    "2. 資料的前後間隔可能超過 1 日，例如：客戶在 2020.11.17 匯款後，下次匯款可能在 2 日後的 2020.11.19 發生"
   ]
  },
  {
   "cell_type": "markdown",
   "metadata": {},
   "source": [
    "#### alert\n",
    "\n",
    "警報是最關鍵的屬性，因為它代表 y 的頻率，若警報在單 1 日內觸發多次的頻率過高，就不能將回推單位設定為 1 天\n",
    "\n",
    "同 1 個客戶在單日觸發 2 次警報的情況在 training set 為 0.9245% 應該可以先忽略不理會"
   ]
  },
  {
   "cell_type": "code",
   "execution_count": 18,
   "metadata": {},
   "outputs": [
    {
     "name": "stdout",
     "output_type": "stream",
     "text": [
      "train: 47306\n",
      "single_day_multi_alerts: 454\n",
      "454 / 47306 = 0.9597%\n"
     ]
    }
   ],
   "source": [
    "single_day_multi_alerts = train.groupby(['cust_id', 'date']).size().reset_index(name='counts')\n",
    "single_day_multi_alerts = single_day_multi_alerts[single_day_multi_alerts['counts']>1]\n",
    "print('train:', len(train))\n",
    "print('single_day_multi_alerts:', len(single_day_multi_alerts))\n",
    "print(F'{len(single_day_multi_alerts)} / {len(train)} = {round(len(single_day_multi_alerts)/len(train)*100, 4)}%')"
   ]
  },
  {
   "cell_type": "markdown",
   "metadata": {},
   "source": [
    "在 public set 觸發 2 次警報的比例為 4.065% 較 training set 高，但也還不是很嚴重"
   ]
  },
  {
   "cell_type": "code",
   "execution_count": 19,
   "metadata": {},
   "outputs": [
    {
     "name": "stdout",
     "output_type": "stream",
     "text": [
      "75 / 1845 = 4.065%\n"
     ]
    }
   ],
   "source": [
    "single_day_multi_alerts_public = public.groupby(['cust_id', 'date']).size().reset_index(name='counts')\n",
    "single_day_multi_alerts_public = single_day_multi_alerts_public[single_day_multi_alerts_public['counts']>1]\n",
    "print(F'{len(single_day_multi_alerts_public)} / {len(public)} = {round(len(single_day_multi_alerts_public)/len(public)*100, 4)}%')"
   ]
  },
  {
   "cell_type": "markdown",
   "metadata": {},
   "source": [
    "#### custinfo\n",
    "檢查客戶在 1 日內的 custinfo 資訊是否相同，若相同的話就能夠以 1 日為單位平均起來，若有變化就要想辦法處理"
   ]
  },
  {
   "cell_type": "markdown",
   "metadata": {},
   "source": [
    "將 custinfo 依 cust_id, date 及任意 1 個欄位分組，並計算每個群組的資料筆數，該數量表示同 1 個顧客在 1 日內的複數警報數\n",
    "\n",
    "1. 可以發現以 occupation_code 為條件群組的時候，重複資料的筆數由 296 筆降低為 293 筆，顯示有 3 筆資料的 occupation_code 在 1 日內發生變化\n",
    "\n",
    "2. 可以發現以 total_asset 為條件群組的時候，重複資料的筆數由 296 筆降低為 151 筆，顯示有 145 筆資料的 total_asset 在 1 日內發生變化\n"
   ]
  },
  {
   "cell_type": "code",
   "execution_count": 20,
   "metadata": {},
   "outputs": [
    {
     "name": "stdout",
     "output_type": "stream",
     "text": [
      "single_day_multi_alerts (risk_rank): 296\n",
      "single_day_multi_alerts (occupation_code): 293\n",
      "single_day_multi_alerts (AGE): 296\n",
      "single_day_multi_alerts (total_asset): 151\n"
     ]
    }
   ],
   "source": [
    "for column in ['risk_rank', 'occupation_code', 'AGE', 'total_asset']:\n",
    "    alerts_groupby_cust_date = custinfo_with_date.groupby(['cust_id', 'date', column]).size().reset_index(name='counts')\n",
    "    single_day_multi_alerts = alerts_groupby_cust_date[alerts_groupby_cust_date['counts']>1]\n",
    "    print(F'single_day_multi_alerts ({column}):', len(single_day_multi_alerts))"
   ]
  },
  {
   "cell_type": "markdown",
   "metadata": {},
   "source": [
    "對於 occupation_code 及 total_asset 可能在 1 日內變化的問題，暫時決定先以當日最後 1 筆資料的值做代表\n",
    "\n",
    "屬性 alert_key 應該是有順序性的，故使用 alert_key 排序後 drop_duplicates and keep last"
   ]
  },
  {
   "cell_type": "code",
   "execution_count": 21,
   "metadata": {},
   "outputs": [
    {
     "name": "stdout",
     "output_type": "stream",
     "text": [
      "custinfo_with_date_drop_duplicates_by_date: 25455\n"
     ]
    }
   ],
   "source": [
    "custinfo_with_date_drop_duplicates_by_date = custinfo_with_date.copy().sort_values(by=['alert_key'], ignore_index=True)\n",
    "custinfo_with_date_drop_duplicates_by_date = custinfo_with_date_drop_duplicates_by_date.drop_duplicates(subset=['cust_id', 'date'], keep='last', ignore_index=True).drop(['alert_key'], axis=1)\n",
    "print('custinfo_with_date_drop_duplicates_by_date:', len(custinfo_with_date_drop_duplicates_by_date))"
   ]
  },
  {
   "cell_type": "markdown",
   "metadata": {},
   "source": [
    "#### remit\n",
    "每天可能有多筆外匯紀錄，但這裡先把他們都加總起來，以 date 為最小單位"
   ]
  },
  {
   "cell_type": "code",
   "execution_count": 22,
   "metadata": {},
   "outputs": [
    {
     "name": "stdout",
     "output_type": "stream",
     "text": [
      "remit.date.minmax: 0 393\n",
      "remit.cust_id.size: 1144\n"
     ]
    }
   ],
   "source": [
    "remit = pd.read_csv(os.path.join(path, 'data/public_train_x_remit1_full_hashed.csv')).rename(columns={'trans_date': 'date'})\n",
    "print('remit.date.minmax:', remit['date'].min(), remit['date'].max())\n",
    "print('remit.cust_id.size:', len(remit.groupby('cust_id').size()))"
   ]
  },
  {
   "cell_type": "markdown",
   "metadata": {},
   "source": [
    "屬性 trans_no 是類別值，沒辦法直接加總或平均，這裡以 1 日內金額最高的那次為代表，另外也計算 1 日內交易次數 trans_counts"
   ]
  },
  {
   "cell_type": "markdown",
   "metadata": {},
   "source": [
    "先根據 trade_amount_usd 由小到大排序，這樣 trans_no 取 last 就會得到當日最高交易金額的交易類型"
   ]
  },
  {
   "cell_type": "code",
   "execution_count": 23,
   "metadata": {},
   "outputs": [
    {
     "data": {
      "text/html": [
       "<div>\n",
       "<style scoped>\n",
       "    .dataframe tbody tr th:only-of-type {\n",
       "        vertical-align: middle;\n",
       "    }\n",
       "\n",
       "    .dataframe tbody tr th {\n",
       "        vertical-align: top;\n",
       "    }\n",
       "\n",
       "    .dataframe thead th {\n",
       "        text-align: right;\n",
       "    }\n",
       "</style>\n",
       "<table border=\"1\" class=\"dataframe\">\n",
       "  <thead>\n",
       "    <tr style=\"text-align: right;\">\n",
       "      <th></th>\n",
       "      <th>cust_id</th>\n",
       "      <th>date</th>\n",
       "      <th>trade_amount_usd</th>\n",
       "      <th>trans_no</th>\n",
       "      <th>trans_counts</th>\n",
       "    </tr>\n",
       "  </thead>\n",
       "  <tbody>\n",
       "    <tr>\n",
       "      <th>0</th>\n",
       "      <td>002f13f534d0bd9fcc1848db3ff5c7b1179d117f8de805...</td>\n",
       "      <td>153</td>\n",
       "      <td>343647.0</td>\n",
       "      <td>4</td>\n",
       "      <td>1</td>\n",
       "    </tr>\n",
       "    <tr>\n",
       "      <th>1</th>\n",
       "      <td>0032adaf4a8731b4d6a3fdcba32f9ebdcd336490eda155...</td>\n",
       "      <td>223</td>\n",
       "      <td>6071.0</td>\n",
       "      <td>3</td>\n",
       "      <td>1</td>\n",
       "    </tr>\n",
       "    <tr>\n",
       "      <th>2</th>\n",
       "      <td>0032adaf4a8731b4d6a3fdcba32f9ebdcd336490eda155...</td>\n",
       "      <td>312</td>\n",
       "      <td>60024.0</td>\n",
       "      <td>4</td>\n",
       "      <td>1</td>\n",
       "    </tr>\n",
       "    <tr>\n",
       "      <th>3</th>\n",
       "      <td>0032adaf4a8731b4d6a3fdcba32f9ebdcd336490eda155...</td>\n",
       "      <td>328</td>\n",
       "      <td>531413.0</td>\n",
       "      <td>4</td>\n",
       "      <td>1</td>\n",
       "    </tr>\n",
       "    <tr>\n",
       "      <th>4</th>\n",
       "      <td>0032adaf4a8731b4d6a3fdcba32f9ebdcd336490eda155...</td>\n",
       "      <td>356</td>\n",
       "      <td>2109.0</td>\n",
       "      <td>0</td>\n",
       "      <td>1</td>\n",
       "    </tr>\n",
       "    <tr>\n",
       "      <th>...</th>\n",
       "      <td>...</td>\n",
       "      <td>...</td>\n",
       "      <td>...</td>\n",
       "      <td>...</td>\n",
       "      <td>...</td>\n",
       "    </tr>\n",
       "    <tr>\n",
       "      <th>15408</th>\n",
       "      <td>ff6c1217b5e039fda46bf4dfba2d54291154a1db54c677...</td>\n",
       "      <td>244</td>\n",
       "      <td>33788.0</td>\n",
       "      <td>0</td>\n",
       "      <td>1</td>\n",
       "    </tr>\n",
       "    <tr>\n",
       "      <th>15409</th>\n",
       "      <td>ff6c1217b5e039fda46bf4dfba2d54291154a1db54c677...</td>\n",
       "      <td>284</td>\n",
       "      <td>91318.0</td>\n",
       "      <td>4</td>\n",
       "      <td>1</td>\n",
       "    </tr>\n",
       "    <tr>\n",
       "      <th>15410</th>\n",
       "      <td>ff6c1217b5e039fda46bf4dfba2d54291154a1db54c677...</td>\n",
       "      <td>298</td>\n",
       "      <td>83201.0</td>\n",
       "      <td>0</td>\n",
       "      <td>1</td>\n",
       "    </tr>\n",
       "    <tr>\n",
       "      <th>15411</th>\n",
       "      <td>ff6c1217b5e039fda46bf4dfba2d54291154a1db54c677...</td>\n",
       "      <td>316</td>\n",
       "      <td>99233.0</td>\n",
       "      <td>0</td>\n",
       "      <td>1</td>\n",
       "    </tr>\n",
       "    <tr>\n",
       "      <th>15412</th>\n",
       "      <td>ff6c1217b5e039fda46bf4dfba2d54291154a1db54c677...</td>\n",
       "      <td>386</td>\n",
       "      <td>88236.0</td>\n",
       "      <td>0</td>\n",
       "      <td>1</td>\n",
       "    </tr>\n",
       "  </tbody>\n",
       "</table>\n",
       "<p>15413 rows × 5 columns</p>\n",
       "</div>"
      ],
      "text/plain": [
       "                                                 cust_id  date  \\\n",
       "0      002f13f534d0bd9fcc1848db3ff5c7b1179d117f8de805...   153   \n",
       "1      0032adaf4a8731b4d6a3fdcba32f9ebdcd336490eda155...   223   \n",
       "2      0032adaf4a8731b4d6a3fdcba32f9ebdcd336490eda155...   312   \n",
       "3      0032adaf4a8731b4d6a3fdcba32f9ebdcd336490eda155...   328   \n",
       "4      0032adaf4a8731b4d6a3fdcba32f9ebdcd336490eda155...   356   \n",
       "...                                                  ...   ...   \n",
       "15408  ff6c1217b5e039fda46bf4dfba2d54291154a1db54c677...   244   \n",
       "15409  ff6c1217b5e039fda46bf4dfba2d54291154a1db54c677...   284   \n",
       "15410  ff6c1217b5e039fda46bf4dfba2d54291154a1db54c677...   298   \n",
       "15411  ff6c1217b5e039fda46bf4dfba2d54291154a1db54c677...   316   \n",
       "15412  ff6c1217b5e039fda46bf4dfba2d54291154a1db54c677...   386   \n",
       "\n",
       "       trade_amount_usd  trans_no  trans_counts  \n",
       "0              343647.0         4             1  \n",
       "1                6071.0         3             1  \n",
       "2               60024.0         4             1  \n",
       "3              531413.0         4             1  \n",
       "4                2109.0         0             1  \n",
       "...                 ...       ...           ...  \n",
       "15408           33788.0         0             1  \n",
       "15409           91318.0         4             1  \n",
       "15410           83201.0         0             1  \n",
       "15411           99233.0         0             1  \n",
       "15412           88236.0         0             1  \n",
       "\n",
       "[15413 rows x 5 columns]"
      ]
     },
     "execution_count": 23,
     "metadata": {},
     "output_type": "execute_result"
    }
   ],
   "source": [
    "remit_groupby_date = remit.copy().sort_values(by=['cust_id', 'date', 'trade_amount_usd'])\n",
    "remit_groupby_date = remit_groupby_date.groupby(['cust_id', 'date']).agg(trade_amount_usd=('trade_amount_usd', 'sum'), trans_no=('trans_no', 'last'), trans_counts=('trans_no', 'count')).reset_index()\n",
    "remit_groupby_date"
   ]
  },
  {
   "cell_type": "markdown",
   "metadata": {},
   "source": [
    "#### cdtx"
   ]
  },
  {
   "cell_type": "code",
   "execution_count": 24,
   "metadata": {},
   "outputs": [],
   "source": [
    "# cdtx = pd.read_csv(os.path.join(path, 'data/public_train_x_cdtx0001_full_hashed.csv')).sort_values(by=['cust_id', 'date'], ignore_index=True)\n",
    "# print('cdtx.date.minmax:', cdtx['date'].min(), cdtx['date'].max())\n",
    "# print('cdtx.size:', len(cdtx))\n",
    "# print('cdtx.cust_id.size:', len(cdtx.groupby('cust_id').size()))\n",
    "# cdtx.head(3)"
   ]
  },
  {
   "cell_type": "markdown",
   "metadata": {},
   "source": [
    "#### ccba"
   ]
  },
  {
   "cell_type": "code",
   "execution_count": 25,
   "metadata": {},
   "outputs": [],
   "source": [
    "# ccba = pd.read_csv(os.path.join(path, 'data/public_train_x_ccba_full_hashed.csv'))\n",
    "# print('ccba.byymm.minmax:', ccba['byymm'].min(), ccba['byymm'].max())\n",
    "# print('ccba.cust_id.size:', len(ccba.groupby('cust_id').size()))\n",
    "# ccba.head(3)"
   ]
  },
  {
   "cell_type": "code",
   "execution_count": 26,
   "metadata": {},
   "outputs": [],
   "source": [
    "# byymm_list = ccba.groupby('byymm').size().reset_index(name='counts')['byymm'].tolist()\n",
    "# byymm_list"
   ]
  },
  {
   "cell_type": "code",
   "execution_count": 27,
   "metadata": {},
   "outputs": [],
   "source": [
    "# cdtxmm = cdtx.copy()\n",
    "# cdtxmm['byymm'] = cdtxmm['date'].apply(lambda x: cdtx_from_date_to_byymm(x, byymm_list))"
   ]
  },
  {
   "cell_type": "markdown",
   "metadata": {},
   "source": [
    "#### dp"
   ]
  },
  {
   "cell_type": "code",
   "execution_count": 28,
   "metadata": {},
   "outputs": [],
   "source": [
    "# dp1 = pd.read_csv(os.path.join(path, 'data/public_train_x_dp_full_hashed_1.csv'))\n",
    "# dp2 = pd.read_csv(os.path.join(path, 'data/public_train_x_dp_full_hashed_2.csv'))\n",
    "# dp = pd.concat([dp1, dp2], ignore_index=True)\n",
    "# print('dp.date.minmax:', dp['tx_date'].min(), dp['tx_date'].max())\n",
    "# print('dp.cust_id.size:', len(dp.groupby('cust_id').size()))\n",
    "# dp.head(5)"
   ]
  },
  {
   "cell_type": "markdown",
   "metadata": {},
   "source": [
    "#### generate daily data\n",
    "以日期為最小單位，生成以 cust_id 與 date (0~394) 為 key 的 dataframe"
   ]
  },
  {
   "cell_type": "code",
   "execution_count": 29,
   "metadata": {},
   "outputs": [
    {
     "name": "stdout",
     "output_type": "stream",
     "text": [
      "daily_data: 3044660\n"
     ]
    },
    {
     "data": {
      "text/html": [
       "<div>\n",
       "<style scoped>\n",
       "    .dataframe tbody tr th:only-of-type {\n",
       "        vertical-align: middle;\n",
       "    }\n",
       "\n",
       "    .dataframe tbody tr th {\n",
       "        vertical-align: top;\n",
       "    }\n",
       "\n",
       "    .dataframe thead th {\n",
       "        text-align: right;\n",
       "    }\n",
       "</style>\n",
       "<table border=\"1\" class=\"dataframe\">\n",
       "  <thead>\n",
       "    <tr style=\"text-align: right;\">\n",
       "      <th></th>\n",
       "      <th>cust_id</th>\n",
       "      <th>date</th>\n",
       "    </tr>\n",
       "  </thead>\n",
       "  <tbody>\n",
       "    <tr>\n",
       "      <th>3044655</th>\n",
       "      <td>fff94defcc33daab190e702926d583f6d805294354addb...</td>\n",
       "      <td>390</td>\n",
       "    </tr>\n",
       "    <tr>\n",
       "      <th>3044656</th>\n",
       "      <td>fff94defcc33daab190e702926d583f6d805294354addb...</td>\n",
       "      <td>391</td>\n",
       "    </tr>\n",
       "    <tr>\n",
       "      <th>3044657</th>\n",
       "      <td>fff94defcc33daab190e702926d583f6d805294354addb...</td>\n",
       "      <td>392</td>\n",
       "    </tr>\n",
       "    <tr>\n",
       "      <th>3044658</th>\n",
       "      <td>fff94defcc33daab190e702926d583f6d805294354addb...</td>\n",
       "      <td>393</td>\n",
       "    </tr>\n",
       "    <tr>\n",
       "      <th>3044659</th>\n",
       "      <td>fff94defcc33daab190e702926d583f6d805294354addb...</td>\n",
       "      <td>394</td>\n",
       "    </tr>\n",
       "  </tbody>\n",
       "</table>\n",
       "</div>"
      ],
      "text/plain": [
       "                                                   cust_id  date\n",
       "3044655  fff94defcc33daab190e702926d583f6d805294354addb...   390\n",
       "3044656  fff94defcc33daab190e702926d583f6d805294354addb...   391\n",
       "3044657  fff94defcc33daab190e702926d583f6d805294354addb...   392\n",
       "3044658  fff94defcc33daab190e702926d583f6d805294354addb...   393\n",
       "3044659  fff94defcc33daab190e702926d583f6d805294354addb...   394"
      ]
     },
     "execution_count": 29,
     "metadata": {},
     "output_type": "execute_result"
    }
   ],
   "source": [
    "# date range: 0~394\n",
    "daily_data = custinfo_with_date_drop_duplicates_by_date['cust_id'].drop_duplicates().to_frame().reset_index(drop=True)\n",
    "daily_data = pd.concat([daily_data]*395).sort_values(by=['cust_id']).reset_index(drop=True)\n",
    "daily_data['date'] = np.array(daily_data.index.tolist()) % 395\n",
    "print('daily_data:', len(daily_data))\n",
    "daily_data.tail(5)"
   ]
  },
  {
   "cell_type": "markdown",
   "metadata": {},
   "source": [
    "##### merge custinfo"
   ]
  },
  {
   "cell_type": "code",
   "execution_count": 30,
   "metadata": {},
   "outputs": [
    {
     "name": "stdout",
     "output_type": "stream",
     "text": [
      "daily_data_custinfo: 3044660\n"
     ]
    },
    {
     "data": {
      "text/html": [
       "<div>\n",
       "<style scoped>\n",
       "    .dataframe tbody tr th:only-of-type {\n",
       "        vertical-align: middle;\n",
       "    }\n",
       "\n",
       "    .dataframe tbody tr th {\n",
       "        vertical-align: top;\n",
       "    }\n",
       "\n",
       "    .dataframe thead th {\n",
       "        text-align: right;\n",
       "    }\n",
       "</style>\n",
       "<table border=\"1\" class=\"dataframe\">\n",
       "  <thead>\n",
       "    <tr style=\"text-align: right;\">\n",
       "      <th></th>\n",
       "      <th>cust_id</th>\n",
       "      <th>date</th>\n",
       "      <th>risk_rank</th>\n",
       "      <th>occupation_code</th>\n",
       "      <th>total_asset</th>\n",
       "      <th>AGE</th>\n",
       "    </tr>\n",
       "  </thead>\n",
       "  <tbody>\n",
       "    <tr>\n",
       "      <th>0</th>\n",
       "      <td>0015cc01f553512007705edf855baa16f1b57a16fb107e...</td>\n",
       "      <td>0</td>\n",
       "      <td>NaN</td>\n",
       "      <td>NaN</td>\n",
       "      <td>NaN</td>\n",
       "      <td>NaN</td>\n",
       "    </tr>\n",
       "    <tr>\n",
       "      <th>1</th>\n",
       "      <td>0015cc01f553512007705edf855baa16f1b57a16fb107e...</td>\n",
       "      <td>1</td>\n",
       "      <td>NaN</td>\n",
       "      <td>NaN</td>\n",
       "      <td>NaN</td>\n",
       "      <td>NaN</td>\n",
       "    </tr>\n",
       "    <tr>\n",
       "      <th>2</th>\n",
       "      <td>0015cc01f553512007705edf855baa16f1b57a16fb107e...</td>\n",
       "      <td>2</td>\n",
       "      <td>NaN</td>\n",
       "      <td>NaN</td>\n",
       "      <td>NaN</td>\n",
       "      <td>NaN</td>\n",
       "    </tr>\n",
       "    <tr>\n",
       "      <th>3</th>\n",
       "      <td>0015cc01f553512007705edf855baa16f1b57a16fb107e...</td>\n",
       "      <td>3</td>\n",
       "      <td>NaN</td>\n",
       "      <td>NaN</td>\n",
       "      <td>NaN</td>\n",
       "      <td>NaN</td>\n",
       "    </tr>\n",
       "    <tr>\n",
       "      <th>4</th>\n",
       "      <td>0015cc01f553512007705edf855baa16f1b57a16fb107e...</td>\n",
       "      <td>4</td>\n",
       "      <td>NaN</td>\n",
       "      <td>NaN</td>\n",
       "      <td>NaN</td>\n",
       "      <td>NaN</td>\n",
       "    </tr>\n",
       "  </tbody>\n",
       "</table>\n",
       "</div>"
      ],
      "text/plain": [
       "                                             cust_id  date  risk_rank  \\\n",
       "0  0015cc01f553512007705edf855baa16f1b57a16fb107e...     0        NaN   \n",
       "1  0015cc01f553512007705edf855baa16f1b57a16fb107e...     1        NaN   \n",
       "2  0015cc01f553512007705edf855baa16f1b57a16fb107e...     2        NaN   \n",
       "3  0015cc01f553512007705edf855baa16f1b57a16fb107e...     3        NaN   \n",
       "4  0015cc01f553512007705edf855baa16f1b57a16fb107e...     4        NaN   \n",
       "\n",
       "   occupation_code  total_asset  AGE  \n",
       "0              NaN          NaN  NaN  \n",
       "1              NaN          NaN  NaN  \n",
       "2              NaN          NaN  NaN  \n",
       "3              NaN          NaN  NaN  \n",
       "4              NaN          NaN  NaN  "
      ]
     },
     "execution_count": 30,
     "metadata": {},
     "output_type": "execute_result"
    }
   ],
   "source": [
    "daily_data_custinfo = pd.merge(daily_data, custinfo_with_date_drop_duplicates_by_date, on=['cust_id', 'date'], how='left')\n",
    "print('daily_data_custinfo:', len(daily_data_custinfo))\n",
    "daily_data_custinfo.head(5)"
   ]
  },
  {
   "cell_type": "markdown",
   "metadata": {},
   "source": [
    "Handle Missing Values\n",
    "\n",
    "可以發現合併後有缺值，因為 custinfo 是以警告發生作為單位，並非每日紀錄\n",
    "\n",
    "假設客戶因為做了什麼事情而被警告，可以將 custinfo 視為狀態改變的分界點，故補值應該使用 ffill 方法 (前面 1 行的值) 填補，即：假設此前的年齡、職業、風險等級、資產沒有變化\n",
    "\n",
    "對於沒有前項的列再使用 bfill 補值"
   ]
  },
  {
   "cell_type": "code",
   "execution_count": 31,
   "metadata": {},
   "outputs": [],
   "source": [
    "daily_data_custinfo_fill = daily_data_custinfo.copy()\n",
    "daily_data_custinfo_fill = daily_data_custinfo_fill.groupby('cust_id', group_keys=False).apply(lambda x: x.fillna(method='ffill'))\n",
    "daily_data_custinfo_fill = daily_data_custinfo_fill.groupby('cust_id', group_keys=False).apply(lambda x: x.fillna(method='bfill'))"
   ]
  },
  {
   "cell_type": "markdown",
   "metadata": {},
   "source": [
    "##### merge remit"
   ]
  },
  {
   "cell_type": "code",
   "execution_count": 32,
   "metadata": {},
   "outputs": [
    {
     "data": {
      "text/plain": [
       "cust_id                   0\n",
       "date                      0\n",
       "risk_rank                 0\n",
       "occupation_code           0\n",
       "total_asset               0\n",
       "AGE                       0\n",
       "trade_amount_usd    3029247\n",
       "trans_no            3029247\n",
       "trans_counts        3029247\n",
       "dtype: int64"
      ]
     },
     "execution_count": 32,
     "metadata": {},
     "output_type": "execute_result"
    }
   ],
   "source": [
    "daily_data_custinfo_fill_remit = pd.merge(daily_data_custinfo_fill, remit_groupby_date, on=['cust_id', 'date'], how='left')\n",
    "daily_data_custinfo_fill_remit.isnull().sum()"
   ]
  },
  {
   "cell_type": "markdown",
   "metadata": {},
   "source": [
    "Handle Missing Values\n",
    "\n",
    "同樣可以發現合併 remit 後有缺值\n",
    "\n",
    "與 custinfo 不同，沒有 remit 紀錄的日子表示客戶沒有交易，所以應該使用 0 補值，對於類別型的 trans_no 因為 0 已經被使用了所以用 -1 填補"
   ]
  },
  {
   "cell_type": "code",
   "execution_count": 33,
   "metadata": {},
   "outputs": [],
   "source": [
    "daily_data_custinfo_fill_remit_fill = daily_data_custinfo_fill_remit.copy()\n",
    "daily_data_custinfo_fill_remit_fill['trans_no'] = daily_data_custinfo_fill_remit_fill['trans_no'].fillna(-1)\n",
    "daily_data_custinfo_fill_remit_fill['trans_counts'] = daily_data_custinfo_fill_remit_fill['trans_counts'].fillna(0)\n",
    "daily_data_custinfo_fill_remit_fill['trade_amount_usd'] = daily_data_custinfo_fill_remit_fill['trade_amount_usd'].fillna(0)"
   ]
  },
  {
   "cell_type": "markdown",
   "metadata": {},
   "source": [
    "Min Max Scaler"
   ]
  },
  {
   "cell_type": "code",
   "execution_count": 34,
   "metadata": {},
   "outputs": [],
   "source": [
    "from sklearn.preprocessing import MinMaxScaler\n",
    "scaler = MinMaxScaler(feature_range=(0, 1)).fit(daily_data_custinfo_fill_remit_fill[numerical])\n",
    "daily_data_custinfo_fill_remit_fill[numerical] = scaler.transform(daily_data_custinfo_fill_remit_fill[numerical])"
   ]
  },
  {
   "cell_type": "markdown",
   "metadata": {},
   "source": [
    "## Modelling & Predict"
   ]
  },
  {
   "cell_type": "code",
   "execution_count": 35,
   "metadata": {},
   "outputs": [],
   "source": [
    "from utils.metrics import recall_n, rmse "
   ]
  },
  {
   "cell_type": "code",
   "execution_count": 36,
   "metadata": {},
   "outputs": [],
   "source": [
    "def get_inputs(target_and_history_data, feature = numerical):\n",
    "    return np.array(target_and_history_data[feature].values)\n",
    "\n",
    "def get_outputs(target_data):\n",
    "    return np.array([target_data['sar_flag']])\n",
    "\n",
    "def get_batch_by_date_range(y_row, x_df_full, look_back):  \n",
    "    target_date, cust_id = y_row['date'], y_row['cust_id']\n",
    "    date_range = list(range(target_date - look_back, target_date + 1))\n",
    "    x_df = x_df_full[x_df_full['cust_id'].eq(cust_id) & x_df_full['date'].isin(date_range)].sort_values(by=['date'], ignore_index=True)\n",
    "    x = get_inputs(x_df)\n",
    "    y = get_outputs(y_row)\n",
    "    return x, y\n",
    "\n",
    "def get_dataset_by_yrows(y_rows, x_df_full, look_back = 3):\n",
    "    xx, yy = [], []\n",
    "    for i, y_row in y_rows.iterrows():\n",
    "        x, y = get_batch_by_date_range(y_row, x_df_full, look_back)\n",
    "        xx.append(x)\n",
    "        yy.append(y)\n",
    "    return np.array(xx), np.array(yy)"
   ]
  },
  {
   "cell_type": "code",
   "execution_count": 37,
   "metadata": {},
   "outputs": [],
   "source": [
    "def get_checkpoint(model_name, monitor):\n",
    "    return tf.keras.callbacks.ModelCheckpoint(\n",
    "        model_name,\n",
    "        monitor=monitor,\n",
    "        verbose=1,\n",
    "        save_best_only=True,\n",
    "        save_weights_only=True,\n",
    "    )"
   ]
  },
  {
   "cell_type": "code",
   "execution_count": 38,
   "metadata": {},
   "outputs": [],
   "source": [
    "def get_early_stop(patience):\n",
    "    return tf.keras.callbacks.EarlyStopping(\n",
    "        monitor=\"val_loss\",\n",
    "        min_delta=0,\n",
    "        patience=patience,\n",
    "        restore_best_weights=True\n",
    "    )"
   ]
  },
  {
   "cell_type": "code",
   "execution_count": 39,
   "metadata": {},
   "outputs": [],
   "source": [
    "def get_model(input_shape, learning_rate, dropout_rate):\n",
    "    model = tf.keras.models.Sequential()\n",
    "    model.add(tf.keras.layers.LSTM(units=200, return_sequences=True, input_shape=(input_shape[1], input_shape[2])))\n",
    "    model.add(tf.keras.layers.LSTM(units=200, return_sequences=False))\n",
    "    model.add(tf.keras.layers.Dense(1))\n",
    "    model.compile(optimizer=tf.keras.optimizers.Adam(learning_rate=learning_rate), loss='mse')\n",
    "    return model  "
   ]
  },
  {
   "cell_type": "code",
   "execution_count": 40,
   "metadata": {},
   "outputs": [
    {
     "name": "stdout",
     "output_type": "stream",
     "text": [
      "(27008, 9) (17508, 9) (1845, 8)\n"
     ]
    }
   ],
   "source": [
    "# Split valid from train data\n",
    "train_df = train[train['set_name'].eq('train') & (train['date'] >= look_back)].reset_index(drop=True)\n",
    "valid_df = train[train['set_name'].eq('valid') & (train['date'] >= look_back)].reset_index(drop=True)\n",
    "public_df = public.copy().sort_values(by='date', ignore_index=True)\n",
    "print(train_df.shape, valid_df.shape, public_df.shape)"
   ]
  },
  {
   "cell_type": "code",
   "execution_count": 41,
   "metadata": {},
   "outputs": [],
   "source": [
    "# xx, yy = zip(*train_df[:100].apply(lambda y_row: get_batch_by_date_range(y_row, daily_data_custinfo_fill_remit_fill, look_back), axis=1))\n",
    "# xx, yy = np.array(xx), np.array(yy)"
   ]
  },
  {
   "cell_type": "code",
   "execution_count": 42,
   "metadata": {},
   "outputs": [],
   "source": [
    "# Build x, y for train and valid data\n",
    "train_x, train_y = get_dataset_by_yrows(train_df, daily_data_custinfo_fill_remit_fill, look_back)\n",
    "valid_x, valid_y = get_dataset_by_yrows(valid_df, daily_data_custinfo_fill_remit_fill, look_back)\n",
    "public_x, public_y = get_dataset_by_yrows(public_df, daily_data_custinfo_fill_remit_fill, look_back)\n",
    "print(train_x.shape, train_y.shape, valid_x.shape, public_x.shape)"
   ]
  },
  {
   "cell_type": "code",
   "execution_count": null,
   "metadata": {},
   "outputs": [],
   "source": [
    "np.save('data/train_x.npy', train_x)\n",
    "np.save('data/train_y.npy', train_y)\n",
    "np.save('data/valid_x.npy', valid_x)\n",
    "np.save('data/valid_y.npy', valid_y)\n",
    "np.save('data/public_x.npy', public_x)\n",
    "np.save('data/public_y.npy', public_y)"
   ]
  },
  {
   "cell_type": "code",
   "execution_count": 59,
   "metadata": {},
   "outputs": [
    {
     "name": "stdout",
     "output_type": "stream",
     "text": [
      "(1000, 4, 3) (1000, 1) (1000, 4, 3) (1000, 4, 3)\n"
     ]
    }
   ],
   "source": [
    "# # Reshape to Timeseries Format(batch_size, time_steps, features)\n",
    "# train_x, train_y = train_x.reshape(train_x.shape[0], look_back + 1, train_x.shape[1] // (look_back + 1), order='F'), train_y.reshape(-1, 1)\n",
    "# valid_x, valid_y = valid_x.reshape(valid_x.shape[0], look_back + 1, valid_x.shape[1] // (look_back + 1), order='F'), valid_y.reshape(-1, 1)\n",
    "# public_x, public_y = public_x.reshape(public_x.shape[0], look_back + 1, public_x.shape[1] // (look_back + 1), order='F'), public_y.reshape(-1, 1)\n",
    "# print(train_x.shape, train_y.shape, valid_x.shape, public_x.shape)"
   ]
  },
  {
   "cell_type": "code",
   "execution_count": 42,
   "metadata": {},
   "outputs": [],
   "source": [
    "# [10, 30, 50, 100, 150]\n",
    "EPOCHS = 150\n",
    "\n",
    "# [16, 32(default), 64, 128, 256, 512, 1024]\n",
    "BATCH_SIZE = 16 * strategy.num_replicas_in_sync\n",
    "\n",
    "# learning rate\n",
    "LR_START = 0.001\n",
    "\n",
    "# dropout rate\n",
    "DROPOUT = 0.0\n",
    "\n",
    "# Define model name\n",
    "model_name = F'lstm_epochs{EPOCHS}_batchsize{BATCH_SIZE}_lr{LR_START}_dropout{int(DROPOUT*100)}'\n",
    "\n",
    "# Check model is exist\n",
    "if os.path.exists(F'{path}/models/{model_name}.h5'):\n",
    "    # stop training if model is exist\n",
    "    raise SystemExit(F'{model_name} is exist')"
   ]
  },
  {
   "cell_type": "code",
   "execution_count": 43,
   "metadata": {},
   "outputs": [
    {
     "name": "stdout",
     "output_type": "stream",
     "text": [
      "INFO:tensorflow:Reduce to /job:localhost/replica:0/task:0/device:CPU:0 then broadcast to ('/job:localhost/replica:0/task:0/device:CPU:0',).\n",
      "INFO:tensorflow:Reduce to /job:localhost/replica:0/task:0/device:CPU:0 then broadcast to ('/job:localhost/replica:0/task:0/device:CPU:0',).\n",
      "INFO:tensorflow:Reduce to /job:localhost/replica:0/task:0/device:CPU:0 then broadcast to ('/job:localhost/replica:0/task:0/device:CPU:0',).\n",
      "INFO:tensorflow:Reduce to /job:localhost/replica:0/task:0/device:CPU:0 then broadcast to ('/job:localhost/replica:0/task:0/device:CPU:0',).\n"
     ]
    }
   ],
   "source": [
    "with strategy.scope():    \n",
    "    model = get_model(train_x.shape, LR_START, DROPOUT)"
   ]
  },
  {
   "cell_type": "code",
   "execution_count": 45,
   "metadata": {},
   "outputs": [
    {
     "name": "stdout",
     "output_type": "stream",
     "text": [
      "Epoch 1/150\n",
      "INFO:tensorflow:Reduce to /job:localhost/replica:0/task:0/device:CPU:0 then broadcast to ('/job:localhost/replica:0/task:0/device:CPU:0',).\n",
      "INFO:tensorflow:Reduce to /job:localhost/replica:0/task:0/device:CPU:0 then broadcast to ('/job:localhost/replica:0/task:0/device:CPU:0',).\n",
      "INFO:tensorflow:Reduce to /job:localhost/replica:0/task:0/device:CPU:0 then broadcast to ('/job:localhost/replica:0/task:0/device:CPU:0',).\n",
      "INFO:tensorflow:Reduce to /job:localhost/replica:0/task:0/device:CPU:0 then broadcast to ('/job:localhost/replica:0/task:0/device:CPU:0',).\n",
      "INFO:tensorflow:Reduce to /job:localhost/replica:0/task:0/device:CPU:0 then broadcast to ('/job:localhost/replica:0/task:0/device:CPU:0',).\n",
      "INFO:tensorflow:Reduce to /job:localhost/replica:0/task:0/device:CPU:0 then broadcast to ('/job:localhost/replica:0/task:0/device:CPU:0',).\n",
      "844/844 - 13s - loss: 0.2039 - val_loss: 0.3768\n",
      "\n",
      "Epoch 00001: val_loss improved from inf to 0.37675, saving model to ./models\\lstm_epochs150_batchsize16_lr0.001_dropout0.h5\n",
      "Epoch 2/150\n",
      "844/844 - 7s - loss: 0.1941 - val_loss: 0.3208\n",
      "\n",
      "Epoch 00002: val_loss improved from 0.37675 to 0.32077, saving model to ./models\\lstm_epochs150_batchsize16_lr0.001_dropout0.h5\n",
      "Epoch 3/150\n",
      "844/844 - 7s - loss: 0.1889 - val_loss: 0.2859\n",
      "\n",
      "Epoch 00003: val_loss improved from 0.32077 to 0.28591, saving model to ./models\\lstm_epochs150_batchsize16_lr0.001_dropout0.h5\n",
      "Epoch 4/150\n",
      "844/844 - 7s - loss: 0.1816 - val_loss: 0.2806\n",
      "\n",
      "Epoch 00004: val_loss improved from 0.28591 to 0.28058, saving model to ./models\\lstm_epochs150_batchsize16_lr0.001_dropout0.h5\n",
      "Epoch 5/150\n",
      "844/844 - 7s - loss: 0.1763 - val_loss: 0.3006\n",
      "\n",
      "Epoch 00005: val_loss did not improve from 0.28058\n",
      "Epoch 6/150\n",
      "844/844 - 7s - loss: 0.1707 - val_loss: 0.2915\n",
      "\n",
      "Epoch 00006: val_loss did not improve from 0.28058\n",
      "Epoch 7/150\n",
      "844/844 - 7s - loss: 0.1693 - val_loss: 0.2772\n",
      "\n",
      "Epoch 00007: val_loss improved from 0.28058 to 0.27718, saving model to ./models\\lstm_epochs150_batchsize16_lr0.001_dropout0.h5\n",
      "Epoch 8/150\n",
      "844/844 - 7s - loss: 0.1672 - val_loss: 0.3204\n",
      "\n",
      "Epoch 00008: val_loss did not improve from 0.27718\n",
      "Epoch 9/150\n",
      "844/844 - 7s - loss: 0.1655 - val_loss: 0.2767\n",
      "\n",
      "Epoch 00009: val_loss improved from 0.27718 to 0.27674, saving model to ./models\\lstm_epochs150_batchsize16_lr0.001_dropout0.h5\n",
      "Epoch 10/150\n",
      "844/844 - 7s - loss: 0.1628 - val_loss: 0.2735\n",
      "\n",
      "Epoch 00010: val_loss improved from 0.27674 to 0.27346, saving model to ./models\\lstm_epochs150_batchsize16_lr0.001_dropout0.h5\n",
      "Epoch 11/150\n",
      "844/844 - 7s - loss: 0.1618 - val_loss: 0.3078\n",
      "\n",
      "Epoch 00011: val_loss did not improve from 0.27346\n",
      "Epoch 12/150\n",
      "844/844 - 7s - loss: 0.1587 - val_loss: 0.2916\n",
      "\n",
      "Epoch 00012: val_loss did not improve from 0.27346\n",
      "Epoch 13/150\n",
      "844/844 - 7s - loss: 0.1550 - val_loss: 0.3141\n",
      "\n",
      "Epoch 00013: val_loss did not improve from 0.27346\n",
      "Epoch 14/150\n",
      "844/844 - 7s - loss: 0.1500 - val_loss: 0.2893\n",
      "\n",
      "Epoch 00014: val_loss did not improve from 0.27346\n",
      "Epoch 15/150\n",
      "844/844 - 7s - loss: 0.1462 - val_loss: 0.3194\n",
      "\n",
      "Epoch 00015: val_loss did not improve from 0.27346\n",
      "Epoch 16/150\n",
      "844/844 - 7s - loss: 0.1436 - val_loss: 0.2972\n",
      "\n",
      "Epoch 00016: val_loss did not improve from 0.27346\n",
      "Epoch 17/150\n",
      "844/844 - 7s - loss: 0.1406 - val_loss: 0.3247\n",
      "\n",
      "Epoch 00017: val_loss did not improve from 0.27346\n",
      "Epoch 18/150\n",
      "844/844 - 7s - loss: 0.1380 - val_loss: 0.3015\n",
      "\n",
      "Epoch 00018: val_loss did not improve from 0.27346\n",
      "Epoch 19/150\n",
      "844/844 - 7s - loss: 0.1350 - val_loss: 0.3086\n",
      "\n",
      "Epoch 00019: val_loss did not improve from 0.27346\n",
      "Epoch 20/150\n",
      "844/844 - 7s - loss: 0.1344 - val_loss: 0.2915\n",
      "\n",
      "Epoch 00020: val_loss did not improve from 0.27346\n",
      "Epoch 21/150\n",
      "844/844 - 7s - loss: 0.1336 - val_loss: 0.2895\n",
      "\n",
      "Epoch 00021: val_loss did not improve from 0.27346\n",
      "Epoch 22/150\n",
      "844/844 - 7s - loss: 0.1308 - val_loss: 0.3009\n",
      "\n",
      "Epoch 00022: val_loss did not improve from 0.27346\n",
      "Epoch 23/150\n",
      "844/844 - 7s - loss: 0.1312 - val_loss: 0.2986\n",
      "\n",
      "Epoch 00023: val_loss did not improve from 0.27346\n",
      "Epoch 24/150\n",
      "844/844 - 7s - loss: 0.1317 - val_loss: 0.3034\n",
      "\n",
      "Epoch 00024: val_loss did not improve from 0.27346\n",
      "Epoch 25/150\n",
      "844/844 - 7s - loss: 0.1289 - val_loss: 0.2867\n",
      "\n",
      "Epoch 00025: val_loss did not improve from 0.27346\n",
      "Epoch 26/150\n",
      "844/844 - 7s - loss: 0.1289 - val_loss: 0.3041\n",
      "\n",
      "Epoch 00026: val_loss did not improve from 0.27346\n",
      "Epoch 27/150\n",
      "844/844 - 7s - loss: 0.1286 - val_loss: 0.2934\n",
      "\n",
      "Epoch 00027: val_loss did not improve from 0.27346\n",
      "Epoch 28/150\n",
      "844/844 - 7s - loss: 0.1287 - val_loss: 0.2814\n",
      "\n",
      "Epoch 00028: val_loss did not improve from 0.27346\n",
      "Epoch 29/150\n",
      "844/844 - 7s - loss: 0.1275 - val_loss: 0.3029\n",
      "\n",
      "Epoch 00029: val_loss did not improve from 0.27346\n",
      "Epoch 30/150\n",
      "844/844 - 7s - loss: 0.1278 - val_loss: 0.2889\n",
      "\n",
      "Epoch 00030: val_loss did not improve from 0.27346\n",
      "Epoch 31/150\n",
      "844/844 - 7s - loss: 0.1275 - val_loss: 0.2830\n",
      "\n",
      "Epoch 00031: val_loss did not improve from 0.27346\n",
      "Epoch 32/150\n",
      "844/844 - 7s - loss: 0.1283 - val_loss: 0.2835\n",
      "\n",
      "Epoch 00032: val_loss did not improve from 0.27346\n",
      "Epoch 33/150\n",
      "844/844 - 7s - loss: 0.1270 - val_loss: 0.2820\n",
      "\n",
      "Epoch 00033: val_loss did not improve from 0.27346\n",
      "Epoch 34/150\n",
      "844/844 - 7s - loss: 0.1263 - val_loss: 0.3006\n",
      "\n",
      "Epoch 00034: val_loss did not improve from 0.27346\n",
      "Epoch 35/150\n",
      "844/844 - 7s - loss: 0.1256 - val_loss: 0.2862\n",
      "\n",
      "Epoch 00035: val_loss did not improve from 0.27346\n",
      "Epoch 36/150\n",
      "844/844 - 7s - loss: 0.1261 - val_loss: 0.2964\n",
      "\n",
      "Epoch 00036: val_loss did not improve from 0.27346\n",
      "Epoch 37/150\n",
      "844/844 - 7s - loss: 0.1255 - val_loss: 0.2777\n",
      "\n",
      "Epoch 00037: val_loss did not improve from 0.27346\n",
      "Epoch 38/150\n",
      "844/844 - 7s - loss: 0.1256 - val_loss: 0.2988\n",
      "\n",
      "Epoch 00038: val_loss did not improve from 0.27346\n",
      "Epoch 39/150\n",
      "844/844 - 7s - loss: 0.1255 - val_loss: 0.2913\n",
      "\n",
      "Epoch 00039: val_loss did not improve from 0.27346\n",
      "Epoch 40/150\n",
      "844/844 - 7s - loss: 0.1253 - val_loss: 0.2807\n",
      "\n",
      "Epoch 00040: val_loss did not improve from 0.27346\n",
      "Epoch 41/150\n",
      "844/844 - 7s - loss: 0.1248 - val_loss: 0.2859\n",
      "\n",
      "Epoch 00041: val_loss did not improve from 0.27346\n",
      "Epoch 42/150\n",
      "844/844 - 7s - loss: 0.1225 - val_loss: 0.2881\n",
      "\n",
      "Epoch 00042: val_loss did not improve from 0.27346\n",
      "Epoch 43/150\n",
      "844/844 - 7s - loss: 0.1222 - val_loss: 0.2855\n",
      "\n",
      "Epoch 00043: val_loss did not improve from 0.27346\n",
      "Epoch 44/150\n",
      "844/844 - 7s - loss: 0.1205 - val_loss: 0.2905\n",
      "\n",
      "Epoch 00044: val_loss did not improve from 0.27346\n",
      "Epoch 45/150\n",
      "844/844 - 7s - loss: 0.1213 - val_loss: 0.2915\n",
      "\n",
      "Epoch 00045: val_loss did not improve from 0.27346\n",
      "Epoch 46/150\n",
      "844/844 - 7s - loss: 0.1220 - val_loss: 0.2890\n",
      "\n",
      "Epoch 00046: val_loss did not improve from 0.27346\n",
      "Epoch 47/150\n",
      "844/844 - 7s - loss: 0.1221 - val_loss: 0.2984\n",
      "\n",
      "Epoch 00047: val_loss did not improve from 0.27346\n",
      "Epoch 48/150\n",
      "844/844 - 7s - loss: 0.1211 - val_loss: 0.3062\n",
      "\n",
      "Epoch 00048: val_loss did not improve from 0.27346\n",
      "Epoch 49/150\n",
      "844/844 - 7s - loss: 0.1228 - val_loss: 0.2804\n",
      "\n",
      "Epoch 00049: val_loss did not improve from 0.27346\n",
      "Epoch 50/150\n",
      "844/844 - 7s - loss: 0.1212 - val_loss: 0.3027\n",
      "\n",
      "Epoch 00050: val_loss did not improve from 0.27346\n",
      "Epoch 51/150\n",
      "844/844 - 7s - loss: 0.1192 - val_loss: 0.2912\n",
      "\n",
      "Epoch 00051: val_loss did not improve from 0.27346\n",
      "Epoch 52/150\n",
      "844/844 - 7s - loss: 0.1215 - val_loss: 0.2897\n",
      "\n",
      "Epoch 00052: val_loss did not improve from 0.27346\n",
      "Epoch 53/150\n",
      "844/844 - 7s - loss: 0.1200 - val_loss: 0.2788\n",
      "\n",
      "Epoch 00053: val_loss did not improve from 0.27346\n",
      "Epoch 54/150\n",
      "844/844 - 7s - loss: 0.1167 - val_loss: 0.2893\n",
      "\n",
      "Epoch 00054: val_loss did not improve from 0.27346\n",
      "Epoch 55/150\n",
      "844/844 - 7s - loss: 0.1180 - val_loss: 0.2983\n",
      "\n",
      "Epoch 00055: val_loss did not improve from 0.27346\n",
      "Epoch 56/150\n",
      "844/844 - 7s - loss: 0.1164 - val_loss: 0.2869\n",
      "\n",
      "Epoch 00056: val_loss did not improve from 0.27346\n",
      "Epoch 57/150\n",
      "844/844 - 7s - loss: 0.1153 - val_loss: 0.2996\n",
      "\n",
      "Epoch 00057: val_loss did not improve from 0.27346\n",
      "Epoch 58/150\n",
      "844/844 - 7s - loss: 0.1154 - val_loss: 0.2799\n",
      "\n",
      "Epoch 00058: val_loss did not improve from 0.27346\n",
      "Epoch 59/150\n",
      "844/844 - 7s - loss: 0.1144 - val_loss: 0.2960\n",
      "\n",
      "Epoch 00059: val_loss did not improve from 0.27346\n",
      "Epoch 60/150\n",
      "844/844 - 7s - loss: 0.1149 - val_loss: 0.2967\n",
      "\n",
      "Epoch 00060: val_loss did not improve from 0.27346\n",
      "417.78751826286316\n"
     ]
    }
   ],
   "source": [
    "start = time.time()\n",
    "\n",
    "# Train model\n",
    "history = model.fit(\n",
    "  train_x,\n",
    "  train_y,\n",
    "  epochs=EPOCHS,\n",
    "  validation_data=(valid_x, valid_y),\n",
    "  verbose=2,\n",
    "  callbacks=[\n",
    "    get_checkpoint(F'{path}/models/{model_name}.h5', 'val_loss'), \n",
    "    get_early_stop(50),\n",
    "  ],\n",
    ")\n",
    "\n",
    "# Save history\n",
    "history = pd.DataFrame(history.history)\n",
    "history.to_csv(F'{path}/logs/{model_name}.csv', index=False)\n",
    "\n",
    "end = time.time()\n",
    "print(format(end-start))"
   ]
  },
  {
   "cell_type": "code",
   "execution_count": 55,
   "metadata": {},
   "outputs": [
    {
     "name": "stdout",
     "output_type": "stream",
     "text": [
      "epochs:  60\n"
     ]
    },
    {
     "data": {
      "image/png": "[encoded data removed]",
      "text/plain": [
       "<Figure size 864x288 with 2 Axes>"
      ]
     },
     "metadata": {
      "needs_background": "light"
     },
     "output_type": "display_data"
    }
   ],
   "source": [
    "from matplotlib import pyplot as plt\n",
    "log = pd.read_csv(F'{path}/logs/{model_name}.csv')\n",
    "print('epochs: ',len(log))\n",
    "plt.figure(figsize=(12, 4))\n",
    "\n",
    "# Summarize history for accuracy\n",
    "plt.subplot(1, 2, 1)\n",
    "# plt.plot(log['categorical_accuracy'])\n",
    "# plt.plot(log['val_categorical_accuracy'])\n",
    "# plt.title('accuracy')\n",
    "# plt.ylabel('accuracy')\n",
    "# plt.xlabel('epoch')\n",
    "# plt.legend(['train', 'vaild'], loc='upper left') \n",
    "\n",
    "# Summarize history for loss \n",
    "plt.subplot(1, 2, 2)\n",
    "plt.plot(log['loss']) \n",
    "plt.plot(log['val_loss']) \n",
    "plt.title('loss')\n",
    "plt.ylabel('loss')\n",
    "plt.xlabel('epoch')\n",
    "plt.legend(['train', 'vaild'], loc='upper left') \n",
    "\n",
    "# Save image\n",
    "plt.savefig(F'{path}/logs/{model_name}.jpg')"
   ]
  },
  {
   "cell_type": "code",
   "execution_count": 46,
   "metadata": {},
   "outputs": [],
   "source": [
    "# # Pred\n",
    "train_df['probability'] = model.predict(train_x)\n",
    "valid_df['probability'] = model.predict(valid_x)\n",
    "public_df['probability'] = model.predict(public_x)"
   ]
  },
  {
   "cell_type": "code",
   "execution_count": 47,
   "metadata": {},
   "outputs": [
    {
     "name": "stdout",
     "output_type": "stream",
     "text": [
      "train recall_n:  0.67678\n"
     ]
    }
   ],
   "source": [
    "train_recall_n = recall_n(train_df['sar_flag'].tolist(), train_df['probability'].tolist())\n",
    "print('train recall_n: ', round(train_recall_n, 5))"
   ]
  },
  {
   "cell_type": "code",
   "execution_count": 48,
   "metadata": {},
   "outputs": [
    {
     "name": "stdout",
     "output_type": "stream",
     "text": [
      "valid recall_n:  0.33456\n"
     ]
    }
   ],
   "source": [
    "valid_recall_n = recall_n(valid_df['sar_flag'].tolist(), valid_df['probability'].tolist())\n",
    "print('valid recall_n: ', round(valid_recall_n, 5))"
   ]
  },
  {
   "cell_type": "code",
   "execution_count": 49,
   "metadata": {},
   "outputs": [
    {
     "data": {
      "text/plain": [
       "0.5229344792785936"
      ]
     },
     "execution_count": 49,
     "metadata": {},
     "output_type": "execute_result"
    }
   ],
   "source": [
    "rmse(valid_df['sar_flag'].tolist(), valid_df['probability'].tolist())"
   ]
  },
  {
   "cell_type": "markdown",
   "metadata": {},
   "source": [
    "## Submission"
   ]
  },
  {
   "cell_type": "code",
   "execution_count": 50,
   "metadata": {},
   "outputs": [
    {
     "data": {
      "text/html": [
       "<div>\n",
       "<style scoped>\n",
       "    .dataframe tbody tr th:only-of-type {\n",
       "        vertical-align: middle;\n",
       "    }\n",
       "\n",
       "    .dataframe tbody tr th {\n",
       "        vertical-align: top;\n",
       "    }\n",
       "\n",
       "    .dataframe thead th {\n",
       "        text-align: right;\n",
       "    }\n",
       "</style>\n",
       "<table border=\"1\" class=\"dataframe\">\n",
       "  <thead>\n",
       "    <tr style=\"text-align: right;\">\n",
       "      <th></th>\n",
       "      <th>alert_key</th>\n",
       "      <th>probability</th>\n",
       "    </tr>\n",
       "  </thead>\n",
       "  <tbody>\n",
       "    <tr>\n",
       "      <th>count</th>\n",
       "      <td>3850.000000</td>\n",
       "      <td>1845.000000</td>\n",
       "    </tr>\n",
       "    <tr>\n",
       "      <th>mean</th>\n",
       "      <td>365303.605195</td>\n",
       "      <td>0.528604</td>\n",
       "    </tr>\n",
       "    <tr>\n",
       "      <th>std</th>\n",
       "      <td>7309.639174</td>\n",
       "      <td>0.245331</td>\n",
       "    </tr>\n",
       "    <tr>\n",
       "      <th>min</th>\n",
       "      <td>352249.000000</td>\n",
       "      <td>-0.308099</td>\n",
       "    </tr>\n",
       "    <tr>\n",
       "      <th>25%</th>\n",
       "      <td>358829.250000</td>\n",
       "      <td>0.443796</td>\n",
       "    </tr>\n",
       "    <tr>\n",
       "      <th>50%</th>\n",
       "      <td>365574.000000</td>\n",
       "      <td>0.620494</td>\n",
       "    </tr>\n",
       "    <tr>\n",
       "      <th>75%</th>\n",
       "      <td>371367.500000</td>\n",
       "      <td>0.626660</td>\n",
       "    </tr>\n",
       "    <tr>\n",
       "      <th>max</th>\n",
       "      <td>378428.000000</td>\n",
       "      <td>1.042247</td>\n",
       "    </tr>\n",
       "  </tbody>\n",
       "</table>\n",
       "</div>"
      ],
      "text/plain": [
       "           alert_key  probability\n",
       "count    3850.000000  1845.000000\n",
       "mean   365303.605195     0.528604\n",
       "std      7309.639174     0.245331\n",
       "min    352249.000000    -0.308099\n",
       "25%    358829.250000     0.443796\n",
       "50%    365574.000000     0.620494\n",
       "75%    371367.500000     0.626660\n",
       "max    378428.000000     1.042247"
      ]
     },
     "execution_count": 50,
     "metadata": {},
     "output_type": "execute_result"
    }
   ],
   "source": [
    "submission = pd.read_csv(os.path.join(path, 'submission/example.csv'))[['alert_key']]\n",
    "submission = pd.merge(submission, public_df[['alert_key', 'probability']], on='alert_key', how='left')\n",
    "submission.describe()"
   ]
  },
  {
   "cell_type": "code",
   "execution_count": 51,
   "metadata": {},
   "outputs": [],
   "source": [
    "submission['probability'] = submission['probability'].fillna(0)\n",
    "submission['probability'] = submission['probability'].astype('float')\n",
    "submission['probability'] = submission['probability'].apply(lambda x: 0 if x < 0 else x)"
   ]
  },
  {
   "cell_type": "code",
   "execution_count": 52,
   "metadata": {},
   "outputs": [
    {
     "data": {
      "text/html": [
       "<div>\n",
       "<style scoped>\n",
       "    .dataframe tbody tr th:only-of-type {\n",
       "        vertical-align: middle;\n",
       "    }\n",
       "\n",
       "    .dataframe tbody tr th {\n",
       "        vertical-align: top;\n",
       "    }\n",
       "\n",
       "    .dataframe thead th {\n",
       "        text-align: right;\n",
       "    }\n",
       "</style>\n",
       "<table border=\"1\" class=\"dataframe\">\n",
       "  <thead>\n",
       "    <tr style=\"text-align: right;\">\n",
       "      <th></th>\n",
       "      <th>alert_key</th>\n",
       "      <th>probability</th>\n",
       "    </tr>\n",
       "  </thead>\n",
       "  <tbody>\n",
       "    <tr>\n",
       "      <th>count</th>\n",
       "      <td>3850.000000</td>\n",
       "      <td>3850.000000</td>\n",
       "    </tr>\n",
       "    <tr>\n",
       "      <th>mean</th>\n",
       "      <td>365303.605195</td>\n",
       "      <td>0.253883</td>\n",
       "    </tr>\n",
       "    <tr>\n",
       "      <th>std</th>\n",
       "      <td>7309.639174</td>\n",
       "      <td>0.313375</td>\n",
       "    </tr>\n",
       "    <tr>\n",
       "      <th>min</th>\n",
       "      <td>352249.000000</td>\n",
       "      <td>0.000000</td>\n",
       "    </tr>\n",
       "    <tr>\n",
       "      <th>25%</th>\n",
       "      <td>358829.250000</td>\n",
       "      <td>0.000000</td>\n",
       "    </tr>\n",
       "    <tr>\n",
       "      <th>50%</th>\n",
       "      <td>365574.000000</td>\n",
       "      <td>0.000000</td>\n",
       "    </tr>\n",
       "    <tr>\n",
       "      <th>75%</th>\n",
       "      <td>371367.500000</td>\n",
       "      <td>0.620112</td>\n",
       "    </tr>\n",
       "    <tr>\n",
       "      <th>max</th>\n",
       "      <td>378428.000000</td>\n",
       "      <td>1.042247</td>\n",
       "    </tr>\n",
       "  </tbody>\n",
       "</table>\n",
       "</div>"
      ],
      "text/plain": [
       "           alert_key  probability\n",
       "count    3850.000000  3850.000000\n",
       "mean   365303.605195     0.253883\n",
       "std      7309.639174     0.313375\n",
       "min    352249.000000     0.000000\n",
       "25%    358829.250000     0.000000\n",
       "50%    365574.000000     0.000000\n",
       "75%    371367.500000     0.620112\n",
       "max    378428.000000     1.042247"
      ]
     },
     "execution_count": 52,
     "metadata": {},
     "output_type": "execute_result"
    }
   ],
   "source": [
    "submission.describe()"
   ]
  },
  {
   "cell_type": "code",
   "execution_count": 53,
   "metadata": {},
   "outputs": [],
   "source": [
    "submission.to_csv(os.path.join(path, f'submission/lstm.csv'), index=False)"
   ]
  }
 ],
 "metadata": {
  "kernelspec": {
   "display_name": "Python 3.9.12 ('tensorflow-gpu')",
   "language": "python",
   "name": "python3"
  },
  "language_info": {
   "codemirror_mode": {
    "name": "ipython",
    "version": 3
   },
   "file_extension": ".py",
   "mimetype": "text/x-python",
   "name": "python",
   "nbconvert_exporter": "python",
   "pygments_lexer": "ipython3",
   "version": "3.9.12"
  },
  "orig_nbformat": 4,
  "vscode": {
   "interpreter": {
    "hash": "1fe34f43cecd3b1506669e990de3780e558c5eb6715cb313146f8f61288c7aab"
   }
  }
 },
 "nbformat": 4,
 "nbformat_minor": 2
}
